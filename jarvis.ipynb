{
 "cells": [
  {
   "cell_type": "code",
   "execution_count": 1,
   "metadata": {},
   "outputs": [],
   "source": [
    "import os\n",
    "import wikipedia\n",
    "import pyttsx3\n",
    "import datetime\n",
    "import speech_recognition as sr\n",
    "import smtplib\n",
    "import webbrowser"
   ]
  },
  {
   "cell_type": "code",
   "execution_count": 2,
   "metadata": {},
   "outputs": [],
   "source": [
    "engine = pyttsx3.init ()"
   ]
  },
  {
   "cell_type": "code",
   "execution_count": null,
   "metadata": {},
   "outputs": [],
   "source": []
  },
  {
   "cell_type": "code",
   "execution_count": 3,
   "metadata": {},
   "outputs": [],
   "source": [
    "voices = engine.getProperty ('voices')"
   ]
  },
  {
   "cell_type": "code",
   "execution_count": 4,
   "metadata": {},
   "outputs": [
    {
     "data": {
      "text/plain": [
       "'aragonese'"
      ]
     },
     "execution_count": 4,
     "metadata": {},
     "output_type": "execute_result"
    }
   ],
   "source": [
    "voices [1].id"
   ]
  },
  {
   "cell_type": "code",
   "execution_count": 5,
   "metadata": {},
   "outputs": [],
   "source": [
    "engine.setProperty ('voice', voices [0].id)"
   ]
  },
  {
   "cell_type": "code",
   "execution_count": 6,
   "metadata": {},
   "outputs": [],
   "source": [
    "#engine.say (\"Hello World\")"
   ]
  },
  {
   "cell_type": "code",
   "execution_count": 7,
   "metadata": {},
   "outputs": [],
   "source": [
    "def speak (audio):\n",
    "    engine.say (audio)\n",
    "    engine.runAndWait ()"
   ]
  },
  {
   "cell_type": "code",
   "execution_count": 8,
   "metadata": {},
   "outputs": [],
   "source": [
    "speak (\"how are you\")"
   ]
  },
  {
   "cell_type": "code",
   "execution_count": 9,
   "metadata": {},
   "outputs": [],
   "source": [
    "def wishMe ():\n",
    "    hour = int (datetime.datetime.now ().hour)\n",
    "    \n",
    "    if hour >= 0 and hour < 12:\n",
    "        speak (\"Good Morning!\")\n",
    "    elif hour >= 12 and hour < 18:\n",
    "        speak (\"Good afternoon!\")\n",
    "    else:\n",
    "        speak (\"Good evening!\")\n",
    "        \n",
    "    speak (\"I am Jarvis. Please tell me how may i help you?\")"
   ]
  },
  {
   "cell_type": "code",
   "execution_count": 10,
   "metadata": {},
   "outputs": [],
   "source": [
    "wishMe ()"
   ]
  },
  {
   "cell_type": "code",
   "execution_count": 11,
   "metadata": {},
   "outputs": [],
   "source": [
    "def takeCommand ():\n",
    "    r = sr.Recognizer ()\n",
    "    \n",
    "    with sr.Microphone () as source:\n",
    "        print (\"Listening...\")\n",
    "        r.pause_threshold = 1\n",
    "        audio = r.listen (source)\n",
    "        \n",
    "    try: \n",
    "        print (\"Recognizing...\")\n",
    "        query = r.recognize_google (audio, language = \"en-in\")\n",
    "        print (\"user said: {query} \\n\")\n",
    "        \n",
    "    except Exception as e:\n",
    "        print (\"say that again please...\")\n",
    "        return \"None\"\n",
    "    \n",
    "    return query"
   ]
  },
  {
   "cell_type": "code",
   "execution_count": 12,
   "metadata": {},
   "outputs": [],
   "source": [
    "def sendEmail (to, content):\n",
    "    server = smtplib.SMTP ('smtp.gmail.com', 587)\n",
    "    server.ehlo ()\n",
    "    server.starttls ()\n",
    "    server.login ('dishebh27@gmail.com', '**********')\n",
    "    server.sendmail ('dishebh27@gmail.com', to, contact)\n",
    "    server.close ()"
   ]
  },
  {
   "cell_type": "code",
   "execution_count": 18,
   "metadata": {},
   "outputs": [
    {
     "name": "stdout",
     "output_type": "stream",
     "text": [
      "Listening...\n",
      "Recognizing...\n",
      "say that again please...\n"
     ]
    }
   ],
   "source": [
    "if __name__ == \"__main__\":\n",
    "    wishMe ()\n",
    "    \n",
    "    if (True):\n",
    "        query = takeCommand ().lower ()\n",
    "        \n",
    "        if 'wikipedia' in query:\n",
    "            speak (\"searching wikipedia...\")\n",
    "            query = query.replace ('wikipedia', \"\")\n",
    "            results = wikipedia.summary (query, sentences = 2)\n",
    "            speak (\"According to wikipedia\")\n",
    "            print (results)\n",
    "            speak (results)\n",
    "            \n",
    "        elif \"open youtube\" in query:\n",
    "            webbrowser.open (\"youtube.com\")\n",
    "            \n",
    "        elif \"open google\" in query:\n",
    "            webbrowser.open (\"google.com\")\n",
    "            \n",
    "        elif \"the time\" in query:\n",
    "            strTime = datetime.datetime.now ().strftime (\"%H : %M ; %S\")\n",
    "            speak (\"Sir, the time is {strTime}\")\n",
    "            \n",
    "        elif 'email to aman' in query:\n",
    "            try:\n",
    "                speak ('What should I say?')\n",
    "                print ('What should I say?')\n",
    "                content = takeCommand ()\n",
    "                to = 'dishebhb@gmail.com'\n",
    "                sendEmail (to, content)\n",
    "                speak ('Email has been sent!')\n",
    "                \n",
    "            except Exception as e:\n",
    "                print (e)\n",
    "                speak ('Sorry,the email could not be sent.')"
   ]
  },
  {
   "cell_type": "code",
   "execution_count": null,
   "metadata": {},
   "outputs": [],
   "source": []
  }
 ],
 "metadata": {
  "kernelspec": {
   "display_name": "Python 3",
   "language": "python",
   "name": "python3"
  },
  "language_info": {
   "codemirror_mode": {
    "name": "ipython",
    "version": 3
   },
   "file_extension": ".py",
   "mimetype": "text/x-python",
   "name": "python",
   "nbconvert_exporter": "python",
   "pygments_lexer": "ipython3",
   "version": "3.7.3"
  }
 },
 "nbformat": 4,
 "nbformat_minor": 2
}
